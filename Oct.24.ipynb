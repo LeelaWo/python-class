{
 "cells": [
  {
   "cell_type": "code",
   "execution_count": 2,
   "metadata": {},
   "outputs": [
    {
     "name": "stdout",
     "output_type": "stream",
     "text": [
      "a 10\n",
      "b 20\n",
      "c 30\n",
      "d 40\n"
     ]
    }
   ],
   "source": [
    "names = ['a','b','c','d']\n",
    "ages = [10,20,30,40]\n",
    "for i in range(len(names)):\n",
    "    print(names[i],ages[i])"
   ]
  },
  {
   "cell_type": "code",
   "execution_count": 3,
   "metadata": {},
   "outputs": [
    {
     "name": "stdout",
     "output_type": "stream",
     "text": [
      "a 10\n",
      "b 20\n",
      "c 30\n",
      "d 40\n"
     ]
    }
   ],
   "source": [
    "#另外一种方法，重打\n",
    "names = ['a','b','c','d']\n",
    "ages = [10,20,30,40]\n",
    "for i in range(len(names)):\n",
    "    print(names[i],ages[i])"
   ]
  },
  {
   "cell_type": "code",
   "execution_count": 4,
   "metadata": {},
   "outputs": [
    {
     "name": "stdout",
     "output_type": "stream",
     "text": [
      "a 10\n",
      "b 20\n",
      "c 30\n",
      "d 40\n"
     ]
    }
   ],
   "source": [
    "names = ['a','b','c','d']\n",
    "ages = [10,20,30,40]\n",
    "for name,age in zip(names,ages):\n",
    "    print(name,age)"
   ]
  },
  {
   "cell_type": "code",
   "execution_count": 5,
   "metadata": {},
   "outputs": [
    {
     "data": {
      "text/plain": [
       "[('a', 10), ('b', 20), ('c', 30), ('d', 40)]"
      ]
     },
     "execution_count": 5,
     "metadata": {},
     "output_type": "execute_result"
    }
   ],
   "source": [
    "a = list(zip(names,ages))\n",
    "a"
   ]
  },
  {
   "cell_type": "code",
   "execution_count": 9,
   "metadata": {},
   "outputs": [
    {
     "name": "stdout",
     "output_type": "stream",
     "text": [
      "1 a\n",
      "2 b\n",
      "3 c\n",
      "4 d\n"
     ]
    }
   ],
   "source": [
    "names = ['a','b','c','d']\n",
    "#for i in range(len(names)):\n",
    "#    print(i + 1,names[i])\n",
    "i = 1\n",
    "for name in names:\n",
    "    print(i,name)\n",
    "    i += 1"
   ]
  },
  {
   "cell_type": "code",
   "execution_count": 10,
   "metadata": {},
   "outputs": [
    {
     "name": "stdout",
     "output_type": "stream",
     "text": [
      "0 a\n",
      "1 b\n",
      "2 c\n",
      "3 d\n"
     ]
    }
   ],
   "source": [
    "names = ['a','b','c','d']\n",
    "for i,name in enumerate(names):\n",
    "    print(i,name)"
   ]
  },
  {
   "cell_type": "code",
   "execution_count": 11,
   "metadata": {},
   "outputs": [
    {
     "data": {
      "text/plain": [
       "[(0, 'a'), (1, 'b'), (2, 'c'), (3, 'd')]"
      ]
     },
     "execution_count": 11,
     "metadata": {},
     "output_type": "execute_result"
    }
   ],
   "source": [
    "a = list(enumerate(names))\n",
    "a"
   ]
  },
  {
   "cell_type": "code",
   "execution_count": 12,
   "metadata": {},
   "outputs": [
    {
     "name": "stdout",
     "output_type": "stream",
     "text": [
      "[0, 1, 2, 3, 4, 5, 6, 7, 8, 9]\n",
      "[0, 1, 4, 9, 16, 25, 36, 49, 64, 81]\n"
     ]
    }
   ],
   "source": [
    "a = list(range(0,10))\n",
    "b = list()\n",
    "for item in a:\n",
    "    b.append(item * item)\n",
    "print(a)\n",
    "print(b)"
   ]
  },
  {
   "cell_type": "code",
   "execution_count": 14,
   "metadata": {},
   "outputs": [
    {
     "data": {
      "text/plain": [
       "[0, 1, 4, 9, 16, 25, 36, 49, 64, 81]"
      ]
     },
     "execution_count": 14,
     "metadata": {},
     "output_type": "execute_result"
    }
   ],
   "source": [
    "b = [item * item for item in range(0,10)]\n",
    "b"
   ]
  },
  {
   "cell_type": "code",
   "execution_count": 15,
   "metadata": {},
   "outputs": [
    {
     "name": "stdout",
     "output_type": "stream",
     "text": [
      "[0, 3, 6, 9, 12, 15, 18, 21, 24, 27, 30, 33, 36, 39, 42, 45, 48, 51, 54, 57, 60, 63, 66, 69, 72, 75, 78, 81, 84, 87, 90, 93, 96, 99]\n"
     ]
    }
   ],
   "source": [
    "a = [item for item in range(0,100) if item % 3 ==0]\n",
    "print(a)"
   ]
  },
  {
   "cell_type": "code",
   "execution_count": 16,
   "metadata": {},
   "outputs": [
    {
     "name": "stdout",
     "output_type": "stream",
     "text": [
      "[(0, 0), (0, 1), (0, 2), (0, 3), (0, 4), (0, 5), (0, 6), (0, 7), (0, 8), (0, 9), (1, 0), (1, 1), (1, 2), (1, 3), (1, 4), (1, 5), (1, 6), (1, 7), (1, 8), (1, 9), (2, 0), (2, 1), (2, 2), (2, 3), (2, 4), (2, 5), (2, 6), (2, 7), (2, 8), (2, 9), (3, 0), (3, 1), (3, 2), (3, 3), (3, 4), (3, 5), (3, 6), (3, 7), (3, 8), (3, 9), (4, 0), (4, 1), (4, 2), (4, 3), (4, 4), (4, 5), (4, 6), (4, 7), (4, 8), (4, 9), (5, 0), (5, 1), (5, 2), (5, 3), (5, 4), (5, 5), (5, 6), (5, 7), (5, 8), (5, 9), (6, 0), (6, 1), (6, 2), (6, 3), (6, 4), (6, 5), (6, 6), (6, 7), (6, 8), (6, 9), (7, 0), (7, 1), (7, 2), (7, 3), (7, 4), (7, 5), (7, 6), (7, 7), (7, 8), (7, 9), (8, 0), (8, 1), (8, 2), (8, 3), (8, 4), (8, 5), (8, 6), (8, 7), (8, 8), (8, 9), (9, 0), (9, 1), (9, 2), (9, 3), (9, 4), (9, 5), (9, 6), (9, 7), (9, 8), (9, 9)]\n"
     ]
    }
   ],
   "source": [
    "coordinates = []\n",
    "for x in range(0,10):\n",
    "    for y in range(0,10):\n",
    "        coordinates.append((x,y))\n",
    "print(coordinates)"
   ]
  },
  {
   "cell_type": "code",
   "execution_count": 17,
   "metadata": {},
   "outputs": [
    {
     "name": "stdout",
     "output_type": "stream",
     "text": [
      "[(0, 0), (0, 1), (0, 2), (0, 3), (0, 4), (0, 5), (0, 6), (0, 7), (0, 8), (0, 9), (1, 0), (1, 1), (1, 2), (1, 3), (1, 4), (1, 5), (1, 6), (1, 7), (1, 8), (1, 9), (2, 0), (2, 1), (2, 2), (2, 3), (2, 4), (2, 5), (2, 6), (2, 7), (2, 8), (2, 9), (3, 0), (3, 1), (3, 2), (3, 3), (3, 4), (3, 5), (3, 6), (3, 7), (3, 8), (3, 9), (4, 0), (4, 1), (4, 2), (4, 3), (4, 4), (4, 5), (4, 6), (4, 7), (4, 8), (4, 9), (5, 0), (5, 1), (5, 2), (5, 3), (5, 4), (5, 5), (5, 6), (5, 7), (5, 8), (5, 9), (6, 0), (6, 1), (6, 2), (6, 3), (6, 4), (6, 5), (6, 6), (6, 7), (6, 8), (6, 9), (7, 0), (7, 1), (7, 2), (7, 3), (7, 4), (7, 5), (7, 6), (7, 7), (7, 8), (7, 9), (8, 0), (8, 1), (8, 2), (8, 3), (8, 4), (8, 5), (8, 6), (8, 7), (8, 8), (8, 9), (9, 0), (9, 1), (9, 2), (9, 3), (9, 4), (9, 5), (9, 6), (9, 7), (9, 8), (9, 9)]\n"
     ]
    }
   ],
   "source": [
    "coordinates = [(x,y) for x in range(0,10) for y in range(0,10)]\n",
    "print(coordinates)"
   ]
  },
  {
   "cell_type": "code",
   "execution_count": 19,
   "metadata": {},
   "outputs": [
    {
     "name": "stdout",
     "output_type": "stream",
     "text": [
      "['chris+clarice', 'arnold+alice', 'bob+berice', 'bob+beatrice']\n"
     ]
    }
   ],
   "source": [
    "girls = ['alice','berice','clarice','beatrice']\n",
    "boys = ['chris','arnold','bob']\n",
    "result = [boy + '+' + girl for boy in boys for girl in girls if boy[0]==girl[0]]\n",
    "print(result)"
   ]
  },
  {
   "cell_type": "code",
   "execution_count": 20,
   "metadata": {},
   "outputs": [
    {
     "name": "stdout",
     "output_type": "stream",
     "text": [
      "{0: 0, 1: 1, 2: 4, 3: 9, 4: 16, 5: 25, 6: 36, 7: 49, 8: 64, 9: 81}\n"
     ]
    }
   ],
   "source": [
    "squares = {i: i ** 2 for i  in range(0,10)}\n",
    "print(squares)"
   ]
  },
  {
   "cell_type": "code",
   "execution_count": 21,
   "metadata": {},
   "outputs": [
    {
     "data": {
      "text/plain": [
       "25"
      ]
     },
     "execution_count": 21,
     "metadata": {},
     "output_type": "execute_result"
    }
   ],
   "source": [
    "squares[5]"
   ]
  },
  {
   "cell_type": "code",
   "execution_count": 22,
   "metadata": {},
   "outputs": [
    {
     "data": {
      "text/plain": [
       "True"
      ]
     },
     "execution_count": 22,
     "metadata": {},
     "output_type": "execute_result"
    }
   ],
   "source": [
    "a = [1,2,3]\n",
    "b = a\n",
    "b is a"
   ]
  },
  {
   "cell_type": "code",
   "execution_count": 23,
   "metadata": {},
   "outputs": [
    {
     "data": {
      "text/plain": [
       "[1, 2, 3]"
      ]
     },
     "execution_count": 23,
     "metadata": {},
     "output_type": "execute_result"
    }
   ],
   "source": [
    "a = None\n",
    "b"
   ]
  },
  {
   "cell_type": "code",
   "execution_count": 24,
   "metadata": {},
   "outputs": [],
   "source": [
    "b = None"
   ]
  },
  {
   "cell_type": "code",
   "execution_count": 25,
   "metadata": {},
   "outputs": [
    {
     "ename": "NameError",
     "evalue": "name 'x' is not defined",
     "output_type": "error",
     "traceback": [
      "\u001b[1;31m---------------------------------------------------------------------------\u001b[0m",
      "\u001b[1;31mNameError\u001b[0m                                 Traceback (most recent call last)",
      "\u001b[1;32m<ipython-input-25-6699b379bc1b>\u001b[0m in \u001b[0;36m<module>\u001b[1;34m\u001b[0m\n\u001b[0;32m      1\u001b[0m \u001b[0mx\u001b[0m \u001b[1;33m=\u001b[0m \u001b[1;36m1\u001b[0m\u001b[1;33m\u001b[0m\u001b[1;33m\u001b[0m\u001b[0m\n\u001b[0;32m      2\u001b[0m \u001b[1;32mdel\u001b[0m \u001b[0mx\u001b[0m\u001b[1;33m\u001b[0m\u001b[1;33m\u001b[0m\u001b[0m\n\u001b[1;32m----> 3\u001b[1;33m \u001b[0mx\u001b[0m\u001b[1;33m\u001b[0m\u001b[1;33m\u001b[0m\u001b[0m\n\u001b[0m",
      "\u001b[1;31mNameError\u001b[0m: name 'x' is not defined"
     ]
    }
   ],
   "source": [
    "x = 1\n",
    "del x\n",
    "x"
   ]
  },
  {
   "cell_type": "code",
   "execution_count": 26,
   "metadata": {},
   "outputs": [
    {
     "data": {
      "text/plain": [
       "[1, 2, 3]"
      ]
     },
     "execution_count": 26,
     "metadata": {},
     "output_type": "execute_result"
    }
   ],
   "source": [
    "a = [1,2,3]\n",
    "b = a\n",
    "del a\n",
    "b"
   ]
  },
  {
   "cell_type": "code",
   "execution_count": 27,
   "metadata": {},
   "outputs": [
    {
     "name": "stdout",
     "output_type": "stream",
     "text": [
      "hello,world!\n"
     ]
    }
   ],
   "source": [
    "exec('print(\"hello,world!\")')"
   ]
  },
  {
   "cell_type": "code",
   "execution_count": 28,
   "metadata": {},
   "outputs": [],
   "source": [
    "scope = {}\n",
    "exec('y = 1',scope)"
   ]
  },
  {
   "cell_type": "code",
   "execution_count": 29,
   "metadata": {},
   "outputs": [
    {
     "data": {
      "text/plain": [
       "9"
      ]
     },
     "execution_count": 29,
     "metadata": {},
     "output_type": "execute_result"
    }
   ],
   "source": [
    "y"
   ]
  },
  {
   "cell_type": "code",
   "execution_count": 30,
   "metadata": {},
   "outputs": [
    {
     "name": "stdout",
     "output_type": "stream",
     "text": [
      "Variable      Type    Data/Info\n",
      "-------------------------------\n",
      "age           int     40\n",
      "ages          list    n=4\n",
      "b             list    n=3\n",
      "boys          list    n=3\n",
      "coordinates   list    n=100\n",
      "girls         list    n=4\n",
      "i             int     3\n",
      "item          int     9\n",
      "name          str     d\n",
      "names         list    n=4\n",
      "result        list    n=4\n",
      "scope         dict    n=2\n",
      "squares       dict    n=10\n",
      "y             int     9\n"
     ]
    }
   ],
   "source": [
    "%whos"
   ]
  },
  {
   "cell_type": "code",
   "execution_count": 31,
   "metadata": {},
   "outputs": [
    {
     "data": {
      "text/plain": [
       "1"
      ]
     },
     "execution_count": 31,
     "metadata": {},
     "output_type": "execute_result"
    }
   ],
   "source": [
    "scope['y']"
   ]
  },
  {
   "cell_type": "code",
   "execution_count": 32,
   "metadata": {
    "collapsed": true
   },
   "outputs": [
    {
     "name": "stdout",
     "output_type": "stream",
     "text": [
      "{'__builtins__': {'__name__': 'builtins', '__doc__': \"Built-in functions, exceptions, and other objects.\\n\\nNoteworthy: None is the `nil' object; Ellipsis represents `...' in slices.\", '__package__': '', '__loader__': <class '_frozen_importlib.BuiltinImporter'>, '__spec__': ModuleSpec(name='builtins', loader=<class '_frozen_importlib.BuiltinImporter'>), '__build_class__': <built-in function __build_class__>, '__import__': <built-in function __import__>, 'abs': <built-in function abs>, 'all': <built-in function all>, 'any': <built-in function any>, 'ascii': <built-in function ascii>, 'bin': <built-in function bin>, 'breakpoint': <built-in function breakpoint>, 'callable': <built-in function callable>, 'chr': <built-in function chr>, 'compile': <built-in function compile>, 'delattr': <built-in function delattr>, 'dir': <built-in function dir>, 'divmod': <built-in function divmod>, 'eval': <built-in function eval>, 'exec': <built-in function exec>, 'format': <built-in function format>, 'getattr': <built-in function getattr>, 'globals': <built-in function globals>, 'hasattr': <built-in function hasattr>, 'hash': <built-in function hash>, 'hex': <built-in function hex>, 'id': <built-in function id>, 'input': <bound method Kernel.raw_input of <ipykernel.ipkernel.IPythonKernel object at 0x0000025E86D5E278>>, 'isinstance': <built-in function isinstance>, 'issubclass': <built-in function issubclass>, 'iter': <built-in function iter>, 'len': <built-in function len>, 'locals': <built-in function locals>, 'max': <built-in function max>, 'min': <built-in function min>, 'next': <built-in function next>, 'oct': <built-in function oct>, 'ord': <built-in function ord>, 'pow': <built-in function pow>, 'print': <built-in function print>, 'repr': <built-in function repr>, 'round': <built-in function round>, 'setattr': <built-in function setattr>, 'sorted': <built-in function sorted>, 'sum': <built-in function sum>, 'vars': <built-in function vars>, 'None': None, 'Ellipsis': Ellipsis, 'NotImplemented': NotImplemented, 'False': False, 'True': True, 'bool': <class 'bool'>, 'memoryview': <class 'memoryview'>, 'bytearray': <class 'bytearray'>, 'bytes': <class 'bytes'>, 'classmethod': <class 'classmethod'>, 'complex': <class 'complex'>, 'dict': <class 'dict'>, 'enumerate': <class 'enumerate'>, 'filter': <class 'filter'>, 'float': <class 'float'>, 'frozenset': <class 'frozenset'>, 'property': <class 'property'>, 'int': <class 'int'>, 'list': <class 'list'>, 'map': <class 'map'>, 'object': <class 'object'>, 'range': <class 'range'>, 'reversed': <class 'reversed'>, 'set': <class 'set'>, 'slice': <class 'slice'>, 'staticmethod': <class 'staticmethod'>, 'str': <class 'str'>, 'super': <class 'super'>, 'tuple': <class 'tuple'>, 'type': <class 'type'>, 'zip': <class 'zip'>, '__debug__': True, 'BaseException': <class 'BaseException'>, 'Exception': <class 'Exception'>, 'TypeError': <class 'TypeError'>, 'StopAsyncIteration': <class 'StopAsyncIteration'>, 'StopIteration': <class 'StopIteration'>, 'GeneratorExit': <class 'GeneratorExit'>, 'SystemExit': <class 'SystemExit'>, 'KeyboardInterrupt': <class 'KeyboardInterrupt'>, 'ImportError': <class 'ImportError'>, 'ModuleNotFoundError': <class 'ModuleNotFoundError'>, 'OSError': <class 'OSError'>, 'EnvironmentError': <class 'OSError'>, 'IOError': <class 'OSError'>, 'WindowsError': <class 'OSError'>, 'EOFError': <class 'EOFError'>, 'RuntimeError': <class 'RuntimeError'>, 'RecursionError': <class 'RecursionError'>, 'NotImplementedError': <class 'NotImplementedError'>, 'NameError': <class 'NameError'>, 'UnboundLocalError': <class 'UnboundLocalError'>, 'AttributeError': <class 'AttributeError'>, 'SyntaxError': <class 'SyntaxError'>, 'IndentationError': <class 'IndentationError'>, 'TabError': <class 'TabError'>, 'LookupError': <class 'LookupError'>, 'IndexError': <class 'IndexError'>, 'KeyError': <class 'KeyError'>, 'ValueError': <class 'ValueError'>, 'UnicodeError': <class 'UnicodeError'>, 'UnicodeEncodeError': <class 'UnicodeEncodeError'>, 'UnicodeDecodeError': <class 'UnicodeDecodeError'>, 'UnicodeTranslateError': <class 'UnicodeTranslateError'>, 'AssertionError': <class 'AssertionError'>, 'ArithmeticError': <class 'ArithmeticError'>, 'FloatingPointError': <class 'FloatingPointError'>, 'OverflowError': <class 'OverflowError'>, 'ZeroDivisionError': <class 'ZeroDivisionError'>, 'SystemError': <class 'SystemError'>, 'ReferenceError': <class 'ReferenceError'>, 'MemoryError': <class 'MemoryError'>, 'BufferError': <class 'BufferError'>, 'Warning': <class 'Warning'>, 'UserWarning': <class 'UserWarning'>, 'DeprecationWarning': <class 'DeprecationWarning'>, 'PendingDeprecationWarning': <class 'PendingDeprecationWarning'>, 'SyntaxWarning': <class 'SyntaxWarning'>, 'RuntimeWarning': <class 'RuntimeWarning'>, 'FutureWarning': <class 'FutureWarning'>, 'ImportWarning': <class 'ImportWarning'>, 'UnicodeWarning': <class 'UnicodeWarning'>, 'BytesWarning': <class 'BytesWarning'>, 'ResourceWarning': <class 'ResourceWarning'>, 'ConnectionError': <class 'ConnectionError'>, 'BlockingIOError': <class 'BlockingIOError'>, 'BrokenPipeError': <class 'BrokenPipeError'>, 'ChildProcessError': <class 'ChildProcessError'>, 'ConnectionAbortedError': <class 'ConnectionAbortedError'>, 'ConnectionRefusedError': <class 'ConnectionRefusedError'>, 'ConnectionResetError': <class 'ConnectionResetError'>, 'FileExistsError': <class 'FileExistsError'>, 'FileNotFoundError': <class 'FileNotFoundError'>, 'IsADirectoryError': <class 'IsADirectoryError'>, 'NotADirectoryError': <class 'NotADirectoryError'>, 'InterruptedError': <class 'InterruptedError'>, 'PermissionError': <class 'PermissionError'>, 'ProcessLookupError': <class 'ProcessLookupError'>, 'TimeoutError': <class 'TimeoutError'>, 'open': <built-in function open>, 'copyright': Copyright (c) 2001-2019 Python Software Foundation.\n",
      "All Rights Reserved.\n",
      "\n",
      "Copyright (c) 2000 BeOpen.com.\n",
      "All Rights Reserved.\n",
      "\n",
      "Copyright (c) 1995-2001 Corporation for National Research Initiatives.\n",
      "All Rights Reserved.\n",
      "\n",
      "Copyright (c) 1991-1995 Stichting Mathematisch Centrum, Amsterdam.\n",
      "All Rights Reserved., 'credits':     Thanks to CWI, CNRI, BeOpen.com, Zope Corporation and a cast of thousands\n",
      "    for supporting Python development.  See www.python.org for more information., 'license': See https://www.python.org/psf/license/, 'help': Type help() for interactive help, or help(object) for help about object., '__IPYTHON__': True, 'display': <function display at 0x0000025E84619B70>, 'get_ipython': <bound method InteractiveShell.get_ipython of <ipykernel.zmqshell.ZMQInteractiveShell object at 0x0000025E86D5E390>>}, 'y': 1}\n"
     ]
    }
   ],
   "source": [
    "print(scope)"
   ]
  },
  {
   "cell_type": "code",
   "execution_count": 33,
   "metadata": {
    "collapsed": true
   },
   "outputs": [
    {
     "data": {
      "text/plain": [
       "{'__name__': '__main__',\n",
       " '__doc__': 'Automatically created module for IPython interactive environment',\n",
       " '__package__': None,\n",
       " '__loader__': None,\n",
       " '__spec__': None,\n",
       " '__builtin__': <module 'builtins' (built-in)>,\n",
       " '__builtins__': <module 'builtins' (built-in)>,\n",
       " '_ih': ['',\n",
       "  \"name = ['a','b','c','d']\\nages = [10,20,30,40]\\nfor i in range(len(names)):\\n    print(names[i],ages[i])\",\n",
       "  \"names = ['a','b','c','d']\\nages = [10,20,30,40]\\nfor i in range(len(names)):\\n    print(names[i],ages[i])\",\n",
       "  \"names = ['a','b','c','d']\\nages = [10,20,30,40]\\nfor i in range(len(names)):\\n    print(names[i],ages[i])\",\n",
       "  \"names = ['a','b','c','d']\\nages = [10,20,30,40]\\nfor name,age in zip(names,ages):\\n    print(name,age)\",\n",
       "  'a = list(zip(names,ages))\\na',\n",
       "  \"names = ['a','b','c','d']\\nfor i in range(len(names)):\\n    print(i + 1,names[i])\",\n",
       "  \"names = ['a','b','c','d']\\nfor i in range(len(names)):\\n    print(i + 1,names[i])\\ni = 1\\nfor name in names:\\n    print(i,name)\\n    i += 1\\n    \",\n",
       "  \"names = ['a','b','c','d']\\n#for i in range(len(names)):\\n#    print(i + 1,names[i])\\ni = 1\\nfor name in names:\\n    print(i,name)\\n    i += 1\\n    \",\n",
       "  \"names = ['a','b','c','d']\\n#for i in range(len(names)):\\n#    print(i + 1,names[i])\\ni = 1\\nfor name in names:\\n    print(i,name)\\n    i += 1\",\n",
       "  \"names = ['a','b','c','d']\\nfor i,name in enumerate(names):\\n    print(i,name)\",\n",
       "  'a = list(enumerate(names))\\na',\n",
       "  'a = list(range(0,10))\\nb = list()\\nfor item in a:\\n    b.append(item * item)\\nprint(a)\\nprint(b)',\n",
       "  'b = [item * item for item in range(0,10)]',\n",
       "  'b = [item * item for item in range(0,10)]\\nb',\n",
       "  'a = [item for item in range(0,100) if item % 3 ==0]\\nprint(a)',\n",
       "  'coordinates = []\\nfor x in range(0,10):\\n    for y in range(0,10):\\n        coordinates.append((x,y))\\nprint(coordinates)',\n",
       "  'coordinates = [(x,y) for x in range(0,10) for y in range(0,10)]\\nprint(coordinates)',\n",
       "  \"girls = ['alice','berice','clarice']\\nboys = ['chris','arnold','bob']\\nresult = [boy + '+' + girl for boy in boys for girl in girls if boy[0]==girl[0]]\\nprint(result)\",\n",
       "  \"girls = ['alice','berice','clarice','beatrice']\\nboys = ['chris','arnold','bob']\\nresult = [boy + '+' + girl for boy in boys for girl in girls if boy[0]==girl[0]]\\nprint(result)\",\n",
       "  'squares = {i: i ** 2 for i  in range(0,10)}\\nprint(squares)',\n",
       "  'squares[5]',\n",
       "  'a = [1,2,3]\\nb = a\\nb is a',\n",
       "  'a = None\\nb',\n",
       "  'b = None',\n",
       "  'x = 1\\ndel x\\nx',\n",
       "  'a = [1,2,3]\\nb = a\\ndel a\\nb',\n",
       "  'exec(\\'print(\"hello,world!\")\\')',\n",
       "  \"scope = {}\\nexec('y = 1',scope)\",\n",
       "  'y',\n",
       "  \"get_ipython().run_line_magic('whos', '')\",\n",
       "  \"scope['y']\",\n",
       "  'print(scope)',\n",
       "  'vars()'],\n",
       " '_oh': {5: [('a', 10), ('b', 20), ('c', 30), ('d', 40)],\n",
       "  11: [(0, 'a'), (1, 'b'), (2, 'c'), (3, 'd')],\n",
       "  14: [0, 1, 4, 9, 16, 25, 36, 49, 64, 81],\n",
       "  21: 25,\n",
       "  22: True,\n",
       "  23: [1, 2, 3],\n",
       "  26: [1, 2, 3],\n",
       "  29: 9,\n",
       "  31: 1},\n",
       " '_dh': ['F:\\\\Jupyter'],\n",
       " 'In': ['',\n",
       "  \"name = ['a','b','c','d']\\nages = [10,20,30,40]\\nfor i in range(len(names)):\\n    print(names[i],ages[i])\",\n",
       "  \"names = ['a','b','c','d']\\nages = [10,20,30,40]\\nfor i in range(len(names)):\\n    print(names[i],ages[i])\",\n",
       "  \"names = ['a','b','c','d']\\nages = [10,20,30,40]\\nfor i in range(len(names)):\\n    print(names[i],ages[i])\",\n",
       "  \"names = ['a','b','c','d']\\nages = [10,20,30,40]\\nfor name,age in zip(names,ages):\\n    print(name,age)\",\n",
       "  'a = list(zip(names,ages))\\na',\n",
       "  \"names = ['a','b','c','d']\\nfor i in range(len(names)):\\n    print(i + 1,names[i])\",\n",
       "  \"names = ['a','b','c','d']\\nfor i in range(len(names)):\\n    print(i + 1,names[i])\\ni = 1\\nfor name in names:\\n    print(i,name)\\n    i += 1\\n    \",\n",
       "  \"names = ['a','b','c','d']\\n#for i in range(len(names)):\\n#    print(i + 1,names[i])\\ni = 1\\nfor name in names:\\n    print(i,name)\\n    i += 1\\n    \",\n",
       "  \"names = ['a','b','c','d']\\n#for i in range(len(names)):\\n#    print(i + 1,names[i])\\ni = 1\\nfor name in names:\\n    print(i,name)\\n    i += 1\",\n",
       "  \"names = ['a','b','c','d']\\nfor i,name in enumerate(names):\\n    print(i,name)\",\n",
       "  'a = list(enumerate(names))\\na',\n",
       "  'a = list(range(0,10))\\nb = list()\\nfor item in a:\\n    b.append(item * item)\\nprint(a)\\nprint(b)',\n",
       "  'b = [item * item for item in range(0,10)]',\n",
       "  'b = [item * item for item in range(0,10)]\\nb',\n",
       "  'a = [item for item in range(0,100) if item % 3 ==0]\\nprint(a)',\n",
       "  'coordinates = []\\nfor x in range(0,10):\\n    for y in range(0,10):\\n        coordinates.append((x,y))\\nprint(coordinates)',\n",
       "  'coordinates = [(x,y) for x in range(0,10) for y in range(0,10)]\\nprint(coordinates)',\n",
       "  \"girls = ['alice','berice','clarice']\\nboys = ['chris','arnold','bob']\\nresult = [boy + '+' + girl for boy in boys for girl in girls if boy[0]==girl[0]]\\nprint(result)\",\n",
       "  \"girls = ['alice','berice','clarice','beatrice']\\nboys = ['chris','arnold','bob']\\nresult = [boy + '+' + girl for boy in boys for girl in girls if boy[0]==girl[0]]\\nprint(result)\",\n",
       "  'squares = {i: i ** 2 for i  in range(0,10)}\\nprint(squares)',\n",
       "  'squares[5]',\n",
       "  'a = [1,2,3]\\nb = a\\nb is a',\n",
       "  'a = None\\nb',\n",
       "  'b = None',\n",
       "  'x = 1\\ndel x\\nx',\n",
       "  'a = [1,2,3]\\nb = a\\ndel a\\nb',\n",
       "  'exec(\\'print(\"hello,world!\")\\')',\n",
       "  \"scope = {}\\nexec('y = 1',scope)\",\n",
       "  'y',\n",
       "  \"get_ipython().run_line_magic('whos', '')\",\n",
       "  \"scope['y']\",\n",
       "  'print(scope)',\n",
       "  'vars()'],\n",
       " 'Out': {5: [('a', 10), ('b', 20), ('c', 30), ('d', 40)],\n",
       "  11: [(0, 'a'), (1, 'b'), (2, 'c'), (3, 'd')],\n",
       "  14: [0, 1, 4, 9, 16, 25, 36, 49, 64, 81],\n",
       "  21: 25,\n",
       "  22: True,\n",
       "  23: [1, 2, 3],\n",
       "  26: [1, 2, 3],\n",
       "  29: 9,\n",
       "  31: 1},\n",
       " 'get_ipython': <bound method InteractiveShell.get_ipython of <ipykernel.zmqshell.ZMQInteractiveShell object at 0x0000025E86D5E390>>,\n",
       " 'exit': <IPython.core.autocall.ZMQExitAutocall at 0x25e86d75a20>,\n",
       " 'quit': <IPython.core.autocall.ZMQExitAutocall at 0x25e86d75a20>,\n",
       " '_': 1,\n",
       " '__': 9,\n",
       " '___': [1, 2, 3],\n",
       " '_i': 'print(scope)',\n",
       " '_ii': \"scope['y']\",\n",
       " '_iii': '%whos',\n",
       " '_i1': \"name = ['a','b','c','d']\\nages = [10,20,30,40]\\nfor i in range(len(names)):\\n    print(names[i],ages[i])\",\n",
       " 'name': 'd',\n",
       " 'ages': [10, 20, 30, 40],\n",
       " '_i2': \"names = ['a','b','c','d']\\nages = [10,20,30,40]\\nfor i in range(len(names)):\\n    print(names[i],ages[i])\",\n",
       " 'names': ['a', 'b', 'c', 'd'],\n",
       " 'i': 3,\n",
       " '_i3': \"names = ['a','b','c','d']\\nages = [10,20,30,40]\\nfor i in range(len(names)):\\n    print(names[i],ages[i])\",\n",
       " '_i4': \"names = ['a','b','c','d']\\nages = [10,20,30,40]\\nfor name,age in zip(names,ages):\\n    print(name,age)\",\n",
       " 'age': 40,\n",
       " '_i5': 'a = list(zip(names,ages))\\na',\n",
       " '_5': [('a', 10), ('b', 20), ('c', 30), ('d', 40)],\n",
       " '_i6': \"names = ['a','b','c','d']\\nfor i in range(len(names)):\\n    print(i + 1,names[i])\",\n",
       " '_i7': \"names = ['a','b','c','d']\\nfor i in range(len(names)):\\n    print(i + 1,names[i])\\ni = 1\\nfor name in names:\\n    print(i,name)\\n    i += 1\\n    \",\n",
       " '_i8': \"names = ['a','b','c','d']\\n#for i in range(len(names)):\\n#    print(i + 1,names[i])\\ni = 1\\nfor name in names:\\n    print(i,name)\\n    i += 1\\n    \",\n",
       " '_i9': \"names = ['a','b','c','d']\\n#for i in range(len(names)):\\n#    print(i + 1,names[i])\\ni = 1\\nfor name in names:\\n    print(i,name)\\n    i += 1\",\n",
       " '_i10': \"names = ['a','b','c','d']\\nfor i,name in enumerate(names):\\n    print(i,name)\",\n",
       " '_i11': 'a = list(enumerate(names))\\na',\n",
       " '_11': [(0, 'a'), (1, 'b'), (2, 'c'), (3, 'd')],\n",
       " '_i12': 'a = list(range(0,10))\\nb = list()\\nfor item in a:\\n    b.append(item * item)\\nprint(a)\\nprint(b)',\n",
       " 'b': [1, 2, 3],\n",
       " 'item': 9,\n",
       " '_i13': 'b = [item * item for item in range(0,10)]',\n",
       " '_i14': 'b = [item * item for item in range(0,10)]\\nb',\n",
       " '_14': [0, 1, 4, 9, 16, 25, 36, 49, 64, 81],\n",
       " '_i15': 'a = [item for item in range(0,100) if item % 3 ==0]\\nprint(a)',\n",
       " '_i16': 'coordinates = []\\nfor x in range(0,10):\\n    for y in range(0,10):\\n        coordinates.append((x,y))\\nprint(coordinates)',\n",
       " 'coordinates': [(0, 0),\n",
       "  (0, 1),\n",
       "  (0, 2),\n",
       "  (0, 3),\n",
       "  (0, 4),\n",
       "  (0, 5),\n",
       "  (0, 6),\n",
       "  (0, 7),\n",
       "  (0, 8),\n",
       "  (0, 9),\n",
       "  (1, 0),\n",
       "  (1, 1),\n",
       "  (1, 2),\n",
       "  (1, 3),\n",
       "  (1, 4),\n",
       "  (1, 5),\n",
       "  (1, 6),\n",
       "  (1, 7),\n",
       "  (1, 8),\n",
       "  (1, 9),\n",
       "  (2, 0),\n",
       "  (2, 1),\n",
       "  (2, 2),\n",
       "  (2, 3),\n",
       "  (2, 4),\n",
       "  (2, 5),\n",
       "  (2, 6),\n",
       "  (2, 7),\n",
       "  (2, 8),\n",
       "  (2, 9),\n",
       "  (3, 0),\n",
       "  (3, 1),\n",
       "  (3, 2),\n",
       "  (3, 3),\n",
       "  (3, 4),\n",
       "  (3, 5),\n",
       "  (3, 6),\n",
       "  (3, 7),\n",
       "  (3, 8),\n",
       "  (3, 9),\n",
       "  (4, 0),\n",
       "  (4, 1),\n",
       "  (4, 2),\n",
       "  (4, 3),\n",
       "  (4, 4),\n",
       "  (4, 5),\n",
       "  (4, 6),\n",
       "  (4, 7),\n",
       "  (4, 8),\n",
       "  (4, 9),\n",
       "  (5, 0),\n",
       "  (5, 1),\n",
       "  (5, 2),\n",
       "  (5, 3),\n",
       "  (5, 4),\n",
       "  (5, 5),\n",
       "  (5, 6),\n",
       "  (5, 7),\n",
       "  (5, 8),\n",
       "  (5, 9),\n",
       "  (6, 0),\n",
       "  (6, 1),\n",
       "  (6, 2),\n",
       "  (6, 3),\n",
       "  (6, 4),\n",
       "  (6, 5),\n",
       "  (6, 6),\n",
       "  (6, 7),\n",
       "  (6, 8),\n",
       "  (6, 9),\n",
       "  (7, 0),\n",
       "  (7, 1),\n",
       "  (7, 2),\n",
       "  (7, 3),\n",
       "  (7, 4),\n",
       "  (7, 5),\n",
       "  (7, 6),\n",
       "  (7, 7),\n",
       "  (7, 8),\n",
       "  (7, 9),\n",
       "  (8, 0),\n",
       "  (8, 1),\n",
       "  (8, 2),\n",
       "  (8, 3),\n",
       "  (8, 4),\n",
       "  (8, 5),\n",
       "  (8, 6),\n",
       "  (8, 7),\n",
       "  (8, 8),\n",
       "  (8, 9),\n",
       "  (9, 0),\n",
       "  (9, 1),\n",
       "  (9, 2),\n",
       "  (9, 3),\n",
       "  (9, 4),\n",
       "  (9, 5),\n",
       "  (9, 6),\n",
       "  (9, 7),\n",
       "  (9, 8),\n",
       "  (9, 9)],\n",
       " 'y': 9,\n",
       " '_i17': 'coordinates = [(x,y) for x in range(0,10) for y in range(0,10)]\\nprint(coordinates)',\n",
       " '_i18': \"girls = ['alice','berice','clarice']\\nboys = ['chris','arnold','bob']\\nresult = [boy + '+' + girl for boy in boys for girl in girls if boy[0]==girl[0]]\\nprint(result)\",\n",
       " 'girls': ['alice', 'berice', 'clarice', 'beatrice'],\n",
       " 'boys': ['chris', 'arnold', 'bob'],\n",
       " 'result': ['chris+clarice', 'arnold+alice', 'bob+berice', 'bob+beatrice'],\n",
       " '_i19': \"girls = ['alice','berice','clarice','beatrice']\\nboys = ['chris','arnold','bob']\\nresult = [boy + '+' + girl for boy in boys for girl in girls if boy[0]==girl[0]]\\nprint(result)\",\n",
       " '_i20': 'squares = {i: i ** 2 for i  in range(0,10)}\\nprint(squares)',\n",
       " 'squares': {0: 0, 1: 1, 2: 4, 3: 9, 4: 16, 5: 25, 6: 36, 7: 49, 8: 64, 9: 81},\n",
       " '_i21': 'squares[5]',\n",
       " '_21': 25,\n",
       " '_i22': 'a = [1,2,3]\\nb = a\\nb is a',\n",
       " '_22': True,\n",
       " '_i23': 'a = None\\nb',\n",
       " '_23': [1, 2, 3],\n",
       " '_i24': 'b = None',\n",
       " '_i25': 'x = 1\\ndel x\\nx',\n",
       " '_i26': 'a = [1,2,3]\\nb = a\\ndel a\\nb',\n",
       " '_26': [1, 2, 3],\n",
       " '_i27': 'exec(\\'print(\"hello,world!\")\\')',\n",
       " '_i28': \"scope = {}\\nexec('y = 1',scope)\",\n",
       " 'scope': {'__builtins__': {'__name__': 'builtins',\n",
       "   '__doc__': \"Built-in functions, exceptions, and other objects.\\n\\nNoteworthy: None is the `nil' object; Ellipsis represents `...' in slices.\",\n",
       "   '__package__': '',\n",
       "   '__loader__': _frozen_importlib.BuiltinImporter,\n",
       "   '__spec__': ModuleSpec(name='builtins', loader=<class '_frozen_importlib.BuiltinImporter'>),\n",
       "   '__build_class__': <function __build_class__>,\n",
       "   '__import__': <function __import__>,\n",
       "   'abs': <function abs(x, /)>,\n",
       "   'all': <function all(iterable, /)>,\n",
       "   'any': <function any(iterable, /)>,\n",
       "   'ascii': <function ascii(obj, /)>,\n",
       "   'bin': <function bin(number, /)>,\n",
       "   'breakpoint': <function breakpoint>,\n",
       "   'callable': <function callable(obj, /)>,\n",
       "   'chr': <function chr(i, /)>,\n",
       "   'compile': <function compile(source, filename, mode, flags=0, dont_inherit=False, optimize=-1)>,\n",
       "   'delattr': <function delattr(obj, name, /)>,\n",
       "   'dir': <function dir>,\n",
       "   'divmod': <function divmod(x, y, /)>,\n",
       "   'eval': <function eval(source, globals=None, locals=None, /)>,\n",
       "   'exec': <function exec(source, globals=None, locals=None, /)>,\n",
       "   'format': <function format(value, format_spec='', /)>,\n",
       "   'getattr': <function getattr>,\n",
       "   'globals': <function globals()>,\n",
       "   'hasattr': <function hasattr(obj, name, /)>,\n",
       "   'hash': <function hash(obj, /)>,\n",
       "   'hex': <function hex(number, /)>,\n",
       "   'id': <function id(obj, /)>,\n",
       "   'input': <bound method Kernel.raw_input of <ipykernel.ipkernel.IPythonKernel object at 0x0000025E86D5E278>>,\n",
       "   'isinstance': <function isinstance(obj, class_or_tuple, /)>,\n",
       "   'issubclass': <function issubclass(cls, class_or_tuple, /)>,\n",
       "   'iter': <function iter>,\n",
       "   'len': <function len(obj, /)>,\n",
       "   'locals': <function locals()>,\n",
       "   'max': <function max>,\n",
       "   'min': <function min>,\n",
       "   'next': <function next>,\n",
       "   'oct': <function oct(number, /)>,\n",
       "   'ord': <function ord(c, /)>,\n",
       "   'pow': <function pow(x, y, z=None, /)>,\n",
       "   'print': <function print>,\n",
       "   'repr': <function repr(obj, /)>,\n",
       "   'round': <function round(number, ndigits=None)>,\n",
       "   'setattr': <function setattr(obj, name, value, /)>,\n",
       "   'sorted': <function sorted(iterable, /, *, key=None, reverse=False)>,\n",
       "   'sum': <function sum(iterable, start=0, /)>,\n",
       "   'vars': <function vars>,\n",
       "   'None': None,\n",
       "   'Ellipsis': Ellipsis,\n",
       "   'NotImplemented': NotImplemented,\n",
       "   'False': False,\n",
       "   'True': True,\n",
       "   'bool': bool,\n",
       "   'memoryview': memoryview,\n",
       "   'bytearray': bytearray,\n",
       "   'bytes': bytes,\n",
       "   'classmethod': classmethod,\n",
       "   'complex': complex,\n",
       "   'dict': dict,\n",
       "   'enumerate': enumerate,\n",
       "   'filter': filter,\n",
       "   'float': float,\n",
       "   'frozenset': frozenset,\n",
       "   'property': property,\n",
       "   'int': int,\n",
       "   'list': list,\n",
       "   'map': map,\n",
       "   'object': object,\n",
       "   'range': range,\n",
       "   'reversed': reversed,\n",
       "   'set': set,\n",
       "   'slice': slice,\n",
       "   'staticmethod': staticmethod,\n",
       "   'str': str,\n",
       "   'super': super,\n",
       "   'tuple': tuple,\n",
       "   'type': type,\n",
       "   'zip': zip,\n",
       "   '__debug__': True,\n",
       "   'BaseException': BaseException,\n",
       "   'Exception': Exception,\n",
       "   'TypeError': TypeError,\n",
       "   'StopAsyncIteration': StopAsyncIteration,\n",
       "   'StopIteration': StopIteration,\n",
       "   'GeneratorExit': GeneratorExit,\n",
       "   'SystemExit': SystemExit,\n",
       "   'KeyboardInterrupt': KeyboardInterrupt,\n",
       "   'ImportError': ImportError,\n",
       "   'ModuleNotFoundError': ModuleNotFoundError,\n",
       "   'OSError': OSError,\n",
       "   'EnvironmentError': OSError,\n",
       "   'IOError': OSError,\n",
       "   'WindowsError': OSError,\n",
       "   'EOFError': EOFError,\n",
       "   'RuntimeError': RuntimeError,\n",
       "   'RecursionError': RecursionError,\n",
       "   'NotImplementedError': NotImplementedError,\n",
       "   'NameError': NameError,\n",
       "   'UnboundLocalError': UnboundLocalError,\n",
       "   'AttributeError': AttributeError,\n",
       "   'SyntaxError': SyntaxError,\n",
       "   'IndentationError': IndentationError,\n",
       "   'TabError': TabError,\n",
       "   'LookupError': LookupError,\n",
       "   'IndexError': IndexError,\n",
       "   'KeyError': KeyError,\n",
       "   'ValueError': ValueError,\n",
       "   'UnicodeError': UnicodeError,\n",
       "   'UnicodeEncodeError': UnicodeEncodeError,\n",
       "   'UnicodeDecodeError': UnicodeDecodeError,\n",
       "   'UnicodeTranslateError': UnicodeTranslateError,\n",
       "   'AssertionError': AssertionError,\n",
       "   'ArithmeticError': ArithmeticError,\n",
       "   'FloatingPointError': FloatingPointError,\n",
       "   'OverflowError': OverflowError,\n",
       "   'ZeroDivisionError': ZeroDivisionError,\n",
       "   'SystemError': SystemError,\n",
       "   'ReferenceError': ReferenceError,\n",
       "   'MemoryError': MemoryError,\n",
       "   'BufferError': BufferError,\n",
       "   'Warning': Warning,\n",
       "   'UserWarning': UserWarning,\n",
       "   'DeprecationWarning': DeprecationWarning,\n",
       "   'PendingDeprecationWarning': PendingDeprecationWarning,\n",
       "   'SyntaxWarning': SyntaxWarning,\n",
       "   'RuntimeWarning': RuntimeWarning,\n",
       "   'FutureWarning': FutureWarning,\n",
       "   'ImportWarning': ImportWarning,\n",
       "   'UnicodeWarning': UnicodeWarning,\n",
       "   'BytesWarning': BytesWarning,\n",
       "   'ResourceWarning': ResourceWarning,\n",
       "   'ConnectionError': ConnectionError,\n",
       "   'BlockingIOError': BlockingIOError,\n",
       "   'BrokenPipeError': BrokenPipeError,\n",
       "   'ChildProcessError': ChildProcessError,\n",
       "   'ConnectionAbortedError': ConnectionAbortedError,\n",
       "   'ConnectionRefusedError': ConnectionRefusedError,\n",
       "   'ConnectionResetError': ConnectionResetError,\n",
       "   'FileExistsError': FileExistsError,\n",
       "   'FileNotFoundError': FileNotFoundError,\n",
       "   'IsADirectoryError': IsADirectoryError,\n",
       "   'NotADirectoryError': NotADirectoryError,\n",
       "   'InterruptedError': InterruptedError,\n",
       "   'PermissionError': PermissionError,\n",
       "   'ProcessLookupError': ProcessLookupError,\n",
       "   'TimeoutError': TimeoutError,\n",
       "   'open': <function io.open(file, mode='r', buffering=-1, encoding=None, errors=None, newline=None, closefd=True, opener=None)>,\n",
       "   'copyright': Copyright (c) 2001-2019 Python Software Foundation.\n",
       "   All Rights Reserved.\n",
       "   \n",
       "   Copyright (c) 2000 BeOpen.com.\n",
       "   All Rights Reserved.\n",
       "   \n",
       "   Copyright (c) 1995-2001 Corporation for National Research Initiatives.\n",
       "   All Rights Reserved.\n",
       "   \n",
       "   Copyright (c) 1991-1995 Stichting Mathematisch Centrum, Amsterdam.\n",
       "   All Rights Reserved.,\n",
       "   'credits':     Thanks to CWI, CNRI, BeOpen.com, Zope Corporation and a cast of thousands\n",
       "       for supporting Python development.  See www.python.org for more information.,\n",
       "   'license': See https://www.python.org/psf/license/,\n",
       "   'help': Type help() for interactive help, or help(object) for help about object.,\n",
       "   '__IPYTHON__': True,\n",
       "   'display': <function IPython.core.display.display(*objs, include=None, exclude=None, metadata=None, transient=None, display_id=None, **kwargs)>,\n",
       "   'get_ipython': <bound method InteractiveShell.get_ipython of <ipykernel.zmqshell.ZMQInteractiveShell object at 0x0000025E86D5E390>>},\n",
       "  'y': 1},\n",
       " '_i29': 'y',\n",
       " '_29': 9,\n",
       " '_i30': '%whos',\n",
       " '_i31': \"scope['y']\",\n",
       " '_31': 1,\n",
       " '_i32': 'print(scope)',\n",
       " '_i33': 'vars()'}"
      ]
     },
     "execution_count": 33,
     "metadata": {},
     "output_type": "execute_result"
    }
   ],
   "source": [
    "vars()"
   ]
  },
  {
   "cell_type": "code",
   "execution_count": 34,
   "metadata": {
    "scrolled": true
   },
   "outputs": [
    {
     "data": {
      "text/plain": [
       "6"
      ]
     },
     "execution_count": 34,
     "metadata": {},
     "output_type": "execute_result"
    }
   ],
   "source": [
    "eval('1 + 2 +3')"
   ]
  },
  {
   "cell_type": "code",
   "execution_count": 35,
   "metadata": {
    "collapsed": true
   },
   "outputs": [
    {
     "name": "stdout",
     "output_type": "stream",
     "text": [
      "please input an expression: hello\n"
     ]
    },
    {
     "ename": "NameError",
     "evalue": "name 'hello' is not defined",
     "output_type": "error",
     "traceback": [
      "\u001b[1;31m---------------------------------------------------------------------------\u001b[0m",
      "\u001b[1;31mNameError\u001b[0m                                 Traceback (most recent call last)",
      "\u001b[1;32m<ipython-input-35-08c312dc7623>\u001b[0m in \u001b[0;36m<module>\u001b[1;34m\u001b[0m\n\u001b[0;32m      1\u001b[0m \u001b[0mexpr\u001b[0m \u001b[1;33m=\u001b[0m \u001b[0minput\u001b[0m\u001b[1;33m(\u001b[0m\u001b[1;34m'please input an expression: '\u001b[0m\u001b[1;33m)\u001b[0m\u001b[1;33m\u001b[0m\u001b[1;33m\u001b[0m\u001b[0m\n\u001b[1;32m----> 2\u001b[1;33m \u001b[0mprint\u001b[0m\u001b[1;33m(\u001b[0m\u001b[0meval\u001b[0m\u001b[1;33m(\u001b[0m\u001b[0mexpr\u001b[0m\u001b[1;33m)\u001b[0m\u001b[1;33m)\u001b[0m\u001b[1;33m\u001b[0m\u001b[1;33m\u001b[0m\u001b[0m\n\u001b[0m",
      "\u001b[1;32m<string>\u001b[0m in \u001b[0;36m<module>\u001b[1;34m\u001b[0m\n",
      "\u001b[1;31mNameError\u001b[0m: name 'hello' is not defined"
     ]
    }
   ],
   "source": [
    "expr = input('please input an expression: ')\n",
    "print(eval(expr))"
   ]
  },
  {
   "cell_type": "code",
   "execution_count": 42,
   "metadata": {},
   "outputs": [],
   "source": [
    "def hello(name):\n",
    "    'Say to somebody whose name is defined by name.'\n",
    "    print('Hello, ' + name + '!')"
   ]
  },
  {
   "cell_type": "code",
   "execution_count": 37,
   "metadata": {},
   "outputs": [
    {
     "data": {
      "text/plain": [
       "<function __main__.hello(name)>"
      ]
     },
     "execution_count": 37,
     "metadata": {},
     "output_type": "execute_result"
    }
   ],
   "source": [
    "hello"
   ]
  },
  {
   "cell_type": "code",
   "execution_count": 43,
   "metadata": {},
   "outputs": [],
   "source": [
    "hello?"
   ]
  },
  {
   "cell_type": "code",
   "execution_count": 40,
   "metadata": {},
   "outputs": [
    {
     "data": {
      "text/plain": [
       "True"
      ]
     },
     "execution_count": 40,
     "metadata": {},
     "output_type": "execute_result"
    }
   ],
   "source": [
    "callable(hello)"
   ]
  },
  {
   "cell_type": "code",
   "execution_count": 41,
   "metadata": {},
   "outputs": [
    {
     "name": "stdout",
     "output_type": "stream",
     "text": [
      "Hello, wys!\n"
     ]
    }
   ],
   "source": [
    "hello('wys')"
   ]
  },
  {
   "cell_type": "code",
   "execution_count": 45,
   "metadata": {},
   "outputs": [
    {
     "name": "stdout",
     "output_type": "stream",
     "text": [
      "****************************************\n",
      "*                hello                 *\n",
      "****************************************\n"
     ]
    }
   ],
   "source": [
    "def print_banner(text):\n",
    "    print('*' *40)\n",
    "    print(text.center(38).center(40,'*'))\n",
    "    print('*' *40)\n",
    "print_banner('hello')"
   ]
  },
  {
   "cell_type": "code",
   "execution_count": 46,
   "metadata": {},
   "outputs": [
    {
     "name": "stdout",
     "output_type": "stream",
     "text": [
      "******************************\n",
      "*           hello            *\n",
      "******************************\n"
     ]
    }
   ],
   "source": [
    "def print_banner(text,width):\n",
    "    print('*' *width)\n",
    "    print(text.center(width - 2).center(width,'*'))\n",
    "    print('*' *width)\n",
    "print_banner('hello',30)"
   ]
  },
  {
   "cell_type": "code",
   "execution_count": 51,
   "metadata": {},
   "outputs": [
    {
     "name": "stdout",
     "output_type": "stream",
     "text": [
      "##############################\n",
      "#           hello            #\n",
      "##############################\n"
     ]
    }
   ],
   "source": [
    "def print_banner(text,width):\n",
    "    symbol = '#'\n",
    "    print(symbol *width)\n",
    "    print(text.center(width - 2).center(width,symbol))\n",
    "    print(symbol *width)\n",
    "print_banner('hello',30)"
   ]
  },
  {
   "cell_type": "code",
   "execution_count": 52,
   "metadata": {},
   "outputs": [
    {
     "name": "stdout",
     "output_type": "stream",
     "text": [
      "[1, 1, 2, 3, 5, 8, 13, 21, 34, 55, 89]\n"
     ]
    }
   ],
   "source": [
    "fibs = [1,1]\n",
    "for i in range(0,9):                #f(n)=f(n-1)+f(n-2)\n",
    "    fibs.append(fibs[-2] + fibs[-1])#len(fibs)-1 \n",
    "print(fibs)"
   ]
  },
  {
   "cell_type": "code",
   "execution_count": 53,
   "metadata": {},
   "outputs": [
    {
     "name": "stdout",
     "output_type": "stream",
     "text": [
      "8\n"
     ]
    }
   ],
   "source": [
    "print(fibs[5])"
   ]
  },
  {
   "cell_type": "code",
   "execution_count": 55,
   "metadata": {},
   "outputs": [
    {
     "name": "stdout",
     "output_type": "stream",
     "text": [
      "how many fibonacci numbers do you want?8\n",
      "[1, 1, 2, 3, 5, 8, 13, 21]\n"
     ]
    }
   ],
   "source": [
    "def fibs(num):\n",
    "    result = [1,1]\n",
    "    for i in range(num-2):\n",
    "        result.append(result[-2]+result[-1])\n",
    "    return result\n",
    "\n",
    "num = int(input('how many fibonacci numbers do you want?'))\n",
    "print(fibs(num))"
   ]
  },
  {
   "cell_type": "code",
   "execution_count": 57,
   "metadata": {},
   "outputs": [
    {
     "name": "stdout",
     "output_type": "stream",
     "text": [
      "how many steps?6\n",
      "Total number of different ways:8\n"
     ]
    }
   ],
   "source": [
    "def fib(index):\n",
    "    result = [1,1]\n",
    "    for i in range(num-2):\n",
    "        result.append(result[-2]+result[-1])\n",
    "    return result[-1]\n",
    "\n",
    "num = int(input('how many steps?'))\n",
    "print('Total number of different ways:{}'.format(fib(num)))"
   ]
  },
  {
   "cell_type": "code",
   "execution_count": 60,
   "metadata": {},
   "outputs": [
    {
     "name": "stdout",
     "output_type": "stream",
     "text": [
      "how many steps?6\n",
      "Total number of different ways:8\n"
     ]
    }
   ],
   "source": [
    "def fib(index):\n",
    "    item_before_last,last_item = 1,1\n",
    "    for i in range(index-2):\n",
    "        item_before_last,last_item = last_item,item_before_last + last_item\n",
    "    return last_item\n",
    "\n",
    "num = int(input('how many steps?'))\n",
    "print('Total number of different ways:{}'.format(fib(num)))"
   ]
  },
  {
   "cell_type": "markdown",
   "metadata": {},
   "source": [
    "# 函数作用域"
   ]
  },
  {
   "cell_type": "code",
   "execution_count": null,
   "metadata": {},
   "outputs": [],
   "source": []
  }
 ],
 "metadata": {
  "kernelspec": {
   "display_name": "Python 3",
   "language": "python",
   "name": "python3"
  },
  "language_info": {
   "codemirror_mode": {
    "name": "ipython",
    "version": 3
   },
   "file_extension": ".py",
   "mimetype": "text/x-python",
   "name": "python",
   "nbconvert_exporter": "python",
   "pygments_lexer": "ipython3",
   "version": "3.7.3"
  }
 },
 "nbformat": 4,
 "nbformat_minor": 2
}
