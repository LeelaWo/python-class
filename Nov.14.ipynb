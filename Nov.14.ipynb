{
 "cells": [
  {
   "cell_type": "markdown",
   "metadata": {},
   "source": [
    "# 面向对象"
   ]
  },
  {
   "cell_type": "markdown",
   "metadata": {},
   "source": [
    "## 注意要分类,尽量避免多重继承除非是(abstract抽象类)，尽量避免长冗余的代码\n",
    "## 分析场景中有几个东西\n"
   ]
  },
  {
   "cell_type": "code",
   "execution_count": 2,
   "metadata": {},
   "outputs": [
    {
     "name": "stdout",
     "output_type": "stream",
     "text": [
      "screwing...\n",
      "cutting\n"
     ]
    }
   ],
   "source": [
    "class Screwdriver:\n",
    "    def screw(self):\n",
    "        print('screwing...')\n",
    "        \n",
    "class Knife():\n",
    "    def cut(self):\n",
    "        print('cutting')\n",
    "        \n",
    "class SwissKnife(Screwdriver,Knife):\n",
    "    pass\n",
    "\n",
    "sk = SwissKnife()\n",
    "sk.screw()\n",
    "sk.cut"
   ]
  },
  {
   "cell_type": "code",
   "execution_count": 6,
   "metadata": {},
   "outputs": [
    {
     "name": "stdout",
     "output_type": "stream",
     "text": [
      "screwing with a screwdriver of size 4...\n",
      "cutting\n"
     ]
    }
   ],
   "source": [
    "class Screwdriver:\n",
    "    def __init__(self,size):\n",
    "        self.size = size\n",
    "        \n",
    "    def screw(self):\n",
    "        print('screwing with a screwdriver of size {}...'.format(self.size))\n",
    "        \n",
    "class Knife():\n",
    "    def cut(self):\n",
    "        print('cutting')\n",
    "        \n",
    "class SwissKnife(Screwdriver,Knife):\n",
    "    def __init__(self,screwdriver_size):\n",
    "        Screwdriver.__init__(self,screwdriver_size)\n",
    "        Knife.__init__(self)\n",
    "\n",
    "\n",
    "sk = SwissKnife(4)\n",
    "sk.screw()\n",
    "sk.cut()"
   ]
  },
  {
   "cell_type": "code",
   "execution_count": 14,
   "metadata": {},
   "outputs": [
    {
     "name": "stdout",
     "output_type": "stream",
     "text": [
      "screwing with a screwdriver of size 10...\n",
      "screwing with a screwdriver of size 2...\n",
      "cutting\n"
     ]
    },
    {
     "ename": "TypeError",
     "evalue": "work() takes 0 positional arguments but 1 was given",
     "output_type": "error",
     "traceback": [
      "\u001b[1;31m---------------------------------------------------------------------------\u001b[0m",
      "\u001b[1;31mTypeError\u001b[0m                                 Traceback (most recent call last)",
      "\u001b[1;32m<ipython-input-14-43b2d8589887>\u001b[0m in \u001b[0;36m<module>\u001b[1;34m\u001b[0m\n\u001b[0;32m     37\u001b[0m \u001b[0msk\u001b[0m\u001b[1;33m.\u001b[0m\u001b[0muse_tool\u001b[0m\u001b[1;33m(\u001b[0m\u001b[1;34m'Small screwdriver'\u001b[0m\u001b[1;33m)\u001b[0m\u001b[1;33m\u001b[0m\u001b[1;33m\u001b[0m\u001b[0m\n\u001b[0;32m     38\u001b[0m \u001b[0msk\u001b[0m\u001b[1;33m.\u001b[0m\u001b[0muse_tool\u001b[0m\u001b[1;33m(\u001b[0m\u001b[1;34m'Knife'\u001b[0m\u001b[1;33m)\u001b[0m\u001b[1;33m\u001b[0m\u001b[1;33m\u001b[0m\u001b[0m\n\u001b[1;32m---> 39\u001b[1;33m \u001b[0msk\u001b[0m\u001b[1;33m.\u001b[0m\u001b[0muse_tool\u001b[0m\u001b[1;33m(\u001b[0m\u001b[1;34m'Dog'\u001b[0m\u001b[1;33m)\u001b[0m\u001b[1;33m\u001b[0m\u001b[1;33m\u001b[0m\u001b[0m\n\u001b[0m",
      "\u001b[1;32m<ipython-input-14-43b2d8589887>\u001b[0m in \u001b[0;36muse_tool\u001b[1;34m(self, name)\u001b[0m\n\u001b[0;32m     24\u001b[0m         \u001b[0mtool\u001b[0m \u001b[1;33m=\u001b[0m \u001b[0mself\u001b[0m\u001b[1;33m.\u001b[0m\u001b[0mtools\u001b[0m\u001b[1;33m.\u001b[0m\u001b[0mget\u001b[0m\u001b[1;33m(\u001b[0m\u001b[0mname\u001b[0m\u001b[1;33m)\u001b[0m\u001b[1;33m\u001b[0m\u001b[1;33m\u001b[0m\u001b[0m\n\u001b[0;32m     25\u001b[0m         \u001b[1;32mif\u001b[0m \u001b[0mtool\u001b[0m \u001b[1;32mis\u001b[0m \u001b[1;32mnot\u001b[0m \u001b[1;32mNone\u001b[0m\u001b[1;33m:\u001b[0m\u001b[1;33m\u001b[0m\u001b[1;33m\u001b[0m\u001b[0m\n\u001b[1;32m---> 26\u001b[1;33m             \u001b[0mtool\u001b[0m\u001b[1;33m.\u001b[0m\u001b[0mwork\u001b[0m\u001b[1;33m(\u001b[0m\u001b[1;33m)\u001b[0m\u001b[1;33m\u001b[0m\u001b[1;33m\u001b[0m\u001b[0m\n\u001b[0m\u001b[0;32m     27\u001b[0m         \u001b[1;32melse\u001b[0m\u001b[1;33m:\u001b[0m\u001b[1;33m\u001b[0m\u001b[1;33m\u001b[0m\u001b[0m\n\u001b[0;32m     28\u001b[0m             \u001b[0mprint\u001b[0m\u001b[1;33m(\u001b[0m\u001b[1;34m'{} not found.'\u001b[0m\u001b[1;33m.\u001b[0m\u001b[0mformat\u001b[0m\u001b[1;33m(\u001b[0m\u001b[0mname\u001b[0m\u001b[1;33m)\u001b[0m\u001b[1;33m)\u001b[0m\u001b[1;33m\u001b[0m\u001b[1;33m\u001b[0m\u001b[0m\n",
      "\u001b[1;31mTypeError\u001b[0m: work() takes 0 positional arguments but 1 was given"
     ]
    }
   ],
   "source": [
    "class Screwdriver:\n",
    "    def __init__(self,size):\n",
    "        self.size = size\n",
    "        \n",
    "    def work(self):\n",
    "        print('screwing with a screwdriver of size {}...'.format(self.size))\n",
    "        \n",
    "class Knife():\n",
    "    def work(self):\n",
    "        print('cutting')\n",
    "        \n",
    "class Dog():\n",
    "    def work():\n",
    "        print('chasing a ball...')\n",
    "        \n",
    "class SwissKnife:\n",
    "    def __init__(self):\n",
    "        self.tools = {}\n",
    "        \n",
    "    def add_tool(self,name,tool):\n",
    "        self.tools[name]=tool\n",
    "        \n",
    "    def use_tool(self,name):\n",
    "        tool = self.tools.get(name)\n",
    "        if tool is not None:\n",
    "            tool.work()\n",
    "        else:\n",
    "            print('{} not found.'.format(name))\n",
    "        \n",
    "sk = SwissKnife()\n",
    "sk.add_tool('Knife',Knife())\n",
    "sk.add_tool('Big screwdriver',Screwdriver(10))\n",
    "sk.add_tool('Small screwdriver',Screwdriver(2))\n",
    "sk.add_tool('Dog',Dog())\n",
    "\n",
    "sk.use_tool('Big screwdriver')\n",
    "sk.use_tool('Small screwdriver')\n",
    "sk.use_tool('Knife')\n",
    "sk.use_tool('Dog')"
   ]
  },
  {
   "cell_type": "code",
   "execution_count": null,
   "metadata": {},
   "outputs": [],
   "source": [
    "from abc import ABC,abstractmethod\n",
    "\n",
    "class Tool(ABC):\n",
    "    @\n"
   ]
  },
  {
   "cell_type": "code",
   "execution_count": null,
   "metadata": {},
   "outputs": [],
   "source": [
    "class Screwdriver:\n",
    "    def __init__(self,size):\n",
    "        self.size = size\n",
    "        \n",
    "    def work(self):\n",
    "        print('screwing with a screwdriver of size {}...'.format(self.size))\n",
    "        \n",
    "class Knife():\n",
    "    def work(self):\n",
    "        print('cutting')\n",
    "        \n",
    "class Dog():\n",
    "    def work():\n",
    "        print('chasing a ball...')\n",
    "        \n",
    "class SwissKnife:\n",
    "    def __init__(self):\n",
    "        self.tools = {}\n",
    "        \n",
    "    def add_tool(self,name,tool):\n",
    "        self.tools[name]=tool\n",
    "        \n",
    "    def use_tool(self,name):\n",
    "        tool = self.tools.get(name)\n",
    "        if tool is not None:\n",
    "            tool.work()\n",
    "        else:\n",
    "            print('{} not found.'.format(name))\n",
    "        \n",
    "sk = SwissKnife()\n",
    "sk.add_tool('Knife',Knife())\n",
    "sk.add_tool('Big screwdriver',Screwdriver(10))\n",
    "sk.add_tool('Small screwdriver',Screwdriver(2))\n",
    "sk.add_tool('Dog',Dog())\n",
    "\n",
    "sk.use_tool('Big screwdriver')\n",
    "sk.use_tool('Small screwdriver')\n",
    "sk.use_tool('Knife')\n",
    "sk.use_tool('Dog')"
   ]
  },
  {
   "cell_type": "code",
   "execution_count": 17,
   "metadata": {},
   "outputs": [
    {
     "ename": "TypeError",
     "evalue": "__init__() missing 1 required positional argument: 'direction'",
     "output_type": "error",
     "traceback": [
      "\u001b[1;31m---------------------------------------------------------------------------\u001b[0m",
      "\u001b[1;31mTypeError\u001b[0m                                 Traceback (most recent call last)",
      "\u001b[1;32m<ipython-input-17-afdff8e3ad6d>\u001b[0m in \u001b[0;36m<module>\u001b[1;34m\u001b[0m\n\u001b[0;32m     60\u001b[0m         \u001b[1;32mreturn\u001b[0m \u001b[0mself\u001b[0m\u001b[1;33m.\u001b[0m\u001b[0mants\u001b[0m\u001b[1;33m\u001b[0m\u001b[1;33m\u001b[0m\u001b[0m\n\u001b[0;32m     61\u001b[0m \u001b[0mbar\u001b[0m \u001b[1;33m=\u001b[0m \u001b[0mBar\u001b[0m\u001b[1;33m(\u001b[0m\u001b[1;36m80\u001b[0m\u001b[1;33m)\u001b[0m\u001b[1;33m\u001b[0m\u001b[1;33m\u001b[0m\u001b[0m\n\u001b[1;32m---> 62\u001b[1;33m \u001b[0mants\u001b[0m \u001b[1;33m=\u001b[0m \u001b[0mAnts\u001b[0m\u001b[1;33m(\u001b[0m\u001b[1;36m5\u001b[0m\u001b[1;33m)\u001b[0m\u001b[1;33m\u001b[0m\u001b[1;33m\u001b[0m\u001b[0m\n\u001b[0m\u001b[0;32m     63\u001b[0m \u001b[1;33m\u001b[0m\u001b[0m\n\u001b[0;32m     64\u001b[0m \u001b[0mbar\u001b[0m\u001b[1;33m.\u001b[0m\u001b[0mupdate\u001b[0m\u001b[1;33m(\u001b[0m\u001b[0mants\u001b[0m\u001b[1;33m.\u001b[0m\u001b[0mget_ants\u001b[0m\u001b[1;33m(\u001b[0m\u001b[1;33m)\u001b[0m\u001b[1;33m)\u001b[0m\u001b[1;33m\u001b[0m\u001b[1;33m\u001b[0m\u001b[0m\n",
      "\u001b[1;31mTypeError\u001b[0m: __init__() missing 1 required positional argument: 'direction'"
     ]
    }
   ],
   "source": [
    "from time import sleep\n",
    "import random\n",
    "\n",
    "class Bar:\n",
    "    __empty = '-'\n",
    "    def __init__(self,length=80):\n",
    "        self.bar = list()\n",
    "        for i in range(0,length):\n",
    "            self.bar.append(Bar.__empty)\n",
    "            \n",
    "    def reset(self):\n",
    "        for i in range(len(self.bar)):\n",
    "            self.bar[i] = Bar.__empty\n",
    "            \n",
    "    def update(self,ants):\n",
    "        self.reset()\n",
    "        for ant in ants:\n",
    "            if 0<= ant.position < len(self.bar):\n",
    "                self.bar[ant.position] = ant.symbol\n",
    "                \n",
    "    def is_empty(self):\n",
    "        for item in self.bar:\n",
    "            if not item == Bar.__empty:\n",
    "                return False\n",
    "        else:\n",
    "            return True \n",
    "    \n",
    "    def show(self):\n",
    "        for ch in self.bar:\n",
    "            print(ch,sep='',end='')\n",
    "        print('',end='\\r')\n",
    "        \n",
    "            \n",
    "class Ants:\n",
    "    symbols = 'ABCDEFGHIJKLMNOPQRSTUVWXYZ'\n",
    "    count = 0\n",
    "    \n",
    "    def __init__(self,position,direction,symbol=None):\n",
    "        self.position = position\n",
    "        self.derection = direction\n",
    "        if symbol is None:\n",
    "            self.symbol = Ant.symbols[Ant.count]\n",
    "            count += 1\n",
    "        else:\n",
    "            self.symbol=symbol\n",
    "    \n",
    "    def move(self):\n",
    "        self.position += self.direction\n",
    "        \n",
    "    def create_random_ant(length=80):\n",
    "        position = random.randint(0,length-1)\n",
    "        direction = random.choice([1,-1])\n",
    "        return Ant(position,direction)\n",
    "    \n",
    "    def move(self):\n",
    "        for ant in self.ants:\n",
    "            ant.move()\n",
    "        \n",
    "    def get_ants(self):\n",
    "        return self.ants\n",
    "    \n",
    "bar = Bar(80)\n",
    "ants = Ants(5)\n",
    "\n",
    "bar.update(ants.get_ants())\n",
    "bar.show()\n",
    "\n",
    "while not bar.is_empty():\n",
    "    sleep(0.25)\n",
    "    ants.move()\n",
    "    bar.update(ants.get_ants())\n",
    "    bar.show()"
   ]
  },
  {
   "cell_type": "code",
   "execution_count": 19,
   "metadata": {},
   "outputs": [
    {
     "ename": "Exception",
     "evalue": "",
     "output_type": "error",
     "traceback": [
      "\u001b[1;31m---------------------------------------------------------------------------\u001b[0m",
      "\u001b[1;31mException\u001b[0m                                 Traceback (most recent call last)",
      "\u001b[1;32m<ipython-input-19-2aee0157c87b>\u001b[0m in \u001b[0;36m<module>\u001b[1;34m\u001b[0m\n\u001b[1;32m----> 1\u001b[1;33m \u001b[1;32mraise\u001b[0m \u001b[0mException\u001b[0m\u001b[1;33m\u001b[0m\u001b[1;33m\u001b[0m\u001b[0m\n\u001b[0m",
      "\u001b[1;31mException\u001b[0m: "
     ]
    }
   ],
   "source": [
    "raise Exception"
   ]
  },
  {
   "cell_type": "code",
   "execution_count": 20,
   "metadata": {},
   "outputs": [
    {
     "ename": "MyException",
     "evalue": "",
     "output_type": "error",
     "traceback": [
      "\u001b[1;31m---------------------------------------------------------------------------\u001b[0m",
      "\u001b[1;31mMyException\u001b[0m                               Traceback (most recent call last)",
      "\u001b[1;32m<ipython-input-20-c35f6eb592b4>\u001b[0m in \u001b[0;36m<module>\u001b[1;34m\u001b[0m\n\u001b[0;32m      1\u001b[0m \u001b[1;32mclass\u001b[0m \u001b[0mMyException\u001b[0m\u001b[1;33m(\u001b[0m\u001b[0mException\u001b[0m\u001b[1;33m)\u001b[0m\u001b[1;33m:\u001b[0m\u001b[1;32mpass\u001b[0m\u001b[1;33m\u001b[0m\u001b[1;33m\u001b[0m\u001b[0m\n\u001b[0;32m      2\u001b[0m \u001b[1;33m\u001b[0m\u001b[0m\n\u001b[1;32m----> 3\u001b[1;33m \u001b[1;32mraise\u001b[0m \u001b[0mMyException\u001b[0m\u001b[1;33m(\u001b[0m\u001b[1;33m)\u001b[0m\u001b[1;33m\u001b[0m\u001b[1;33m\u001b[0m\u001b[0m\n\u001b[0m",
      "\u001b[1;31mMyException\u001b[0m: "
     ]
    }
   ],
   "source": [
    "class MyException(Exception):pass\n",
    "\n",
    "raise MyException()"
   ]
  },
  {
   "cell_type": "code",
   "execution_count": 30,
   "metadata": {},
   "outputs": [
    {
     "name": "stdin",
     "output_type": "stream",
     "text": [
      "Please input a number: a\n"
     ]
    },
    {
     "name": "stdout",
     "output_type": "stream",
     "text": [
      "invalid literal for int() with base 10: 'a'\n"
     ]
    }
   ],
   "source": [
    "try:                                       #使用try-except的好处在于程序不会挂掉\n",
    "    x= int(input('Please input a number:'))\n",
    "    y= int(input('Please input a number:'))\n",
    "    print('{}/{}={}'.format(x,y,x/y))\n",
    "    print('Hello')\n",
    "except (ZeroDivisionError,ValueError) as e:\n",
    "    print(e)\n",
    "   "
   ]
  },
  {
   "cell_type": "code",
   "execution_count": 31,
   "metadata": {},
   "outputs": [
    {
     "name": "stdin",
     "output_type": "stream",
     "text": [
      "Please input a number: a\n"
     ]
    },
    {
     "name": "stdout",
     "output_type": "stream",
     "text": [
      "invalid literal for int() with base 10: 'a'\n"
     ]
    },
    {
     "name": "stdin",
     "output_type": "stream",
     "text": [
      "Please input a number: b\n"
     ]
    },
    {
     "name": "stdout",
     "output_type": "stream",
     "text": [
      "invalid literal for int() with base 10: 'b'\n"
     ]
    },
    {
     "name": "stdin",
     "output_type": "stream",
     "text": [
      "Please input a number: 1\n",
      "Please input a number: 0\n"
     ]
    },
    {
     "name": "stdout",
     "output_type": "stream",
     "text": [
      "division by zero\n"
     ]
    },
    {
     "name": "stdin",
     "output_type": "stream",
     "text": [
      "Please input a number: 1\n",
      "Please input a number: 2\n"
     ]
    },
    {
     "name": "stdout",
     "output_type": "stream",
     "text": [
      "1/2=0.5\n",
      "Hello\n"
     ]
    }
   ],
   "source": [
    "while True:\n",
    "    try:                                       #使用try-except的好处在于程序不会挂掉\n",
    "        x= int(input('Please input a number:'))\n",
    "        y= int(input('Please input a number:'))\n",
    "        print('{}/{}={}'.format(x,y,x/y))\n",
    "        print('Hello')\n",
    "    except (ZeroDivisionError,ValueError) as e:\n",
    "        print(e)\n",
    "    else:break"
   ]
  },
  {
   "cell_type": "code",
   "execution_count": 29,
   "metadata": {},
   "outputs": [
    {
     "name": "stdin",
     "output_type": "stream",
     "text": [
      "Please input a number: a\n"
     ]
    },
    {
     "name": "stdout",
     "output_type": "stream",
     "text": [
      "ValueError\n"
     ]
    }
   ],
   "source": [
    "try:                                       #使用try-except的好处在于程序不会挂掉\n",
    "    x= int(input('Please input a number:'))\n",
    "    y= int(input('Please input a number:'))\n",
    "    print('{}/{}={}'.format(x,y,x/y))\n",
    "    print('Hello')\n",
    "except ZeroDivisionError:\n",
    "    print('The second number cannot be 0!')\n",
    "except ValueError:\n",
    "    print('ValueError')"
   ]
  },
  {
   "cell_type": "code",
   "execution_count": 24,
   "metadata": {},
   "outputs": [],
   "source": [
    "def calc(expression,no_throw=False):\n",
    "    try:\n",
    "        return eval(expression)\n",
    "    except ZeroDivisionError:\n",
    "        if no_throw:\n",
    "            print('Division by zero.')\n",
    "        else:raise"
   ]
  },
  {
   "cell_type": "code",
   "execution_count": 25,
   "metadata": {},
   "outputs": [
    {
     "data": {
      "text/plain": [
       "2.0"
      ]
     },
     "execution_count": 25,
     "metadata": {},
     "output_type": "execute_result"
    }
   ],
   "source": [
    "calc('10/5')"
   ]
  },
  {
   "cell_type": "code",
   "execution_count": 26,
   "metadata": {},
   "outputs": [
    {
     "ename": "ZeroDivisionError",
     "evalue": "division by zero",
     "output_type": "error",
     "traceback": [
      "\u001b[1;31m---------------------------------------------------------------------------\u001b[0m",
      "\u001b[1;31mZeroDivisionError\u001b[0m                         Traceback (most recent call last)",
      "\u001b[1;32m<ipython-input-26-0afddcb032f4>\u001b[0m in \u001b[0;36m<module>\u001b[1;34m\u001b[0m\n\u001b[1;32m----> 1\u001b[1;33m \u001b[0mcalc\u001b[0m\u001b[1;33m(\u001b[0m\u001b[1;34m'10/0'\u001b[0m\u001b[1;33m)\u001b[0m\u001b[1;33m\u001b[0m\u001b[1;33m\u001b[0m\u001b[0m\n\u001b[0m",
      "\u001b[1;32m<ipython-input-24-6737b7992c1d>\u001b[0m in \u001b[0;36mcalc\u001b[1;34m(expression, no_throw)\u001b[0m\n\u001b[0;32m      1\u001b[0m \u001b[1;32mdef\u001b[0m \u001b[0mcalc\u001b[0m\u001b[1;33m(\u001b[0m\u001b[0mexpression\u001b[0m\u001b[1;33m,\u001b[0m\u001b[0mno_throw\u001b[0m\u001b[1;33m=\u001b[0m\u001b[1;32mFalse\u001b[0m\u001b[1;33m)\u001b[0m\u001b[1;33m:\u001b[0m\u001b[1;33m\u001b[0m\u001b[1;33m\u001b[0m\u001b[0m\n\u001b[0;32m      2\u001b[0m     \u001b[1;32mtry\u001b[0m\u001b[1;33m:\u001b[0m\u001b[1;33m\u001b[0m\u001b[1;33m\u001b[0m\u001b[0m\n\u001b[1;32m----> 3\u001b[1;33m         \u001b[1;32mreturn\u001b[0m \u001b[0meval\u001b[0m\u001b[1;33m(\u001b[0m\u001b[0mexpression\u001b[0m\u001b[1;33m)\u001b[0m\u001b[1;33m\u001b[0m\u001b[1;33m\u001b[0m\u001b[0m\n\u001b[0m\u001b[0;32m      4\u001b[0m     \u001b[1;32mexcept\u001b[0m \u001b[0mZeroDivisionError\u001b[0m\u001b[1;33m:\u001b[0m\u001b[1;33m\u001b[0m\u001b[1;33m\u001b[0m\u001b[0m\n\u001b[0;32m      5\u001b[0m         \u001b[1;32mif\u001b[0m \u001b[0mno_throw\u001b[0m\u001b[1;33m:\u001b[0m\u001b[1;33m\u001b[0m\u001b[1;33m\u001b[0m\u001b[0m\n",
      "\u001b[1;32m<string>\u001b[0m in \u001b[0;36m<module>\u001b[1;34m\u001b[0m\n",
      "\u001b[1;31mZeroDivisionError\u001b[0m: division by zero"
     ]
    }
   ],
   "source": [
    "calc('10/0')"
   ]
  },
  {
   "cell_type": "code",
   "execution_count": 32,
   "metadata": {},
   "outputs": [
    {
     "name": "stdout",
     "output_type": "stream",
     "text": [
      "cleaning up...\n"
     ]
    },
    {
     "ename": "ZeroDivisionError",
     "evalue": "division by zero",
     "output_type": "error",
     "traceback": [
      "\u001b[1;31m---------------------------------------------------------------------------\u001b[0m",
      "\u001b[1;31mZeroDivisionError\u001b[0m                         Traceback (most recent call last)",
      "\u001b[1;32m<ipython-input-32-11421386fe29>\u001b[0m in \u001b[0;36m<module>\u001b[1;34m\u001b[0m\n\u001b[0;32m      1\u001b[0m \u001b[0mx\u001b[0m \u001b[1;33m=\u001b[0m \u001b[1;32mNone\u001b[0m\u001b[1;33m\u001b[0m\u001b[1;33m\u001b[0m\u001b[0m\n\u001b[0;32m      2\u001b[0m \u001b[1;32mtry\u001b[0m\u001b[1;33m:\u001b[0m\u001b[1;33m\u001b[0m\u001b[1;33m\u001b[0m\u001b[0m\n\u001b[1;32m----> 3\u001b[1;33m     \u001b[0mx\u001b[0m \u001b[1;33m=\u001b[0m \u001b[1;36m1\u001b[0m\u001b[1;33m/\u001b[0m\u001b[1;36m0\u001b[0m\u001b[1;33m\u001b[0m\u001b[1;33m\u001b[0m\u001b[0m\n\u001b[0m\u001b[0;32m      4\u001b[0m \u001b[1;32mfinally\u001b[0m\u001b[1;33m:\u001b[0m\u001b[1;33m\u001b[0m\u001b[1;33m\u001b[0m\u001b[0m\n\u001b[0;32m      5\u001b[0m     \u001b[0mprint\u001b[0m\u001b[1;33m(\u001b[0m\u001b[1;34m'cleaning up...'\u001b[0m\u001b[1;33m)\u001b[0m\u001b[1;33m\u001b[0m\u001b[1;33m\u001b[0m\u001b[0m\n",
      "\u001b[1;31mZeroDivisionError\u001b[0m: division by zero"
     ]
    }
   ],
   "source": [
    "x = None\n",
    "try:\n",
    "    x = 1/0\n",
    "finally:                   #做资源释放的事\n",
    "    print('cleaning up...')\n",
    "    del x"
   ]
  },
  {
   "cell_type": "code",
   "execution_count": 33,
   "metadata": {},
   "outputs": [
    {
     "name": "stdout",
     "output_type": "stream",
     "text": [
      "outer...before call inner.\n",
      "inner...\n"
     ]
    },
    {
     "ename": "Exception",
     "evalue": "",
     "output_type": "error",
     "traceback": [
      "\u001b[1;31m---------------------------------------------------------------------------\u001b[0m",
      "\u001b[1;31mException\u001b[0m                                 Traceback (most recent call last)",
      "\u001b[1;32m<ipython-input-33-ee003d1f0bb7>\u001b[0m in \u001b[0;36m<module>\u001b[1;34m\u001b[0m\n\u001b[0;32m      8\u001b[0m     \u001b[0mprint\u001b[0m\u001b[1;33m(\u001b[0m\u001b[1;34m'outer...after call inner.'\u001b[0m\u001b[1;33m)\u001b[0m\u001b[1;33m\u001b[0m\u001b[1;33m\u001b[0m\u001b[0m\n\u001b[0;32m      9\u001b[0m \u001b[1;33m\u001b[0m\u001b[0m\n\u001b[1;32m---> 10\u001b[1;33m \u001b[0mouter\u001b[0m\u001b[1;33m(\u001b[0m\u001b[1;33m)\u001b[0m\u001b[1;33m\u001b[0m\u001b[1;33m\u001b[0m\u001b[0m\n\u001b[0m",
      "\u001b[1;32m<ipython-input-33-ee003d1f0bb7>\u001b[0m in \u001b[0;36mouter\u001b[1;34m()\u001b[0m\n\u001b[0;32m      5\u001b[0m \u001b[1;32mdef\u001b[0m \u001b[0mouter\u001b[0m\u001b[1;33m(\u001b[0m\u001b[1;33m)\u001b[0m\u001b[1;33m:\u001b[0m\u001b[1;33m\u001b[0m\u001b[1;33m\u001b[0m\u001b[0m\n\u001b[0;32m      6\u001b[0m     \u001b[0mprint\u001b[0m\u001b[1;33m(\u001b[0m\u001b[1;34m'outer...before call inner.'\u001b[0m\u001b[1;33m)\u001b[0m\u001b[1;33m\u001b[0m\u001b[1;33m\u001b[0m\u001b[0m\n\u001b[1;32m----> 7\u001b[1;33m     \u001b[0minner\u001b[0m\u001b[1;33m(\u001b[0m\u001b[1;33m)\u001b[0m\u001b[1;33m\u001b[0m\u001b[1;33m\u001b[0m\u001b[0m\n\u001b[0m\u001b[0;32m      8\u001b[0m     \u001b[0mprint\u001b[0m\u001b[1;33m(\u001b[0m\u001b[1;34m'outer...after call inner.'\u001b[0m\u001b[1;33m)\u001b[0m\u001b[1;33m\u001b[0m\u001b[1;33m\u001b[0m\u001b[0m\n\u001b[0;32m      9\u001b[0m \u001b[1;33m\u001b[0m\u001b[0m\n",
      "\u001b[1;32m<ipython-input-33-ee003d1f0bb7>\u001b[0m in \u001b[0;36minner\u001b[1;34m()\u001b[0m\n\u001b[0;32m      1\u001b[0m \u001b[1;32mdef\u001b[0m \u001b[0minner\u001b[0m\u001b[1;33m(\u001b[0m\u001b[1;33m)\u001b[0m\u001b[1;33m:\u001b[0m\u001b[1;33m\u001b[0m\u001b[1;33m\u001b[0m\u001b[0m\n\u001b[0;32m      2\u001b[0m     \u001b[0mprint\u001b[0m\u001b[1;33m(\u001b[0m\u001b[1;34m'inner...'\u001b[0m\u001b[1;33m)\u001b[0m\u001b[1;33m\u001b[0m\u001b[1;33m\u001b[0m\u001b[0m\n\u001b[1;32m----> 3\u001b[1;33m     \u001b[1;32mraise\u001b[0m \u001b[0mException\u001b[0m\u001b[1;33m\u001b[0m\u001b[1;33m\u001b[0m\u001b[0m\n\u001b[0m\u001b[0;32m      4\u001b[0m \u001b[1;33m\u001b[0m\u001b[0m\n\u001b[0;32m      5\u001b[0m \u001b[1;32mdef\u001b[0m \u001b[0mouter\u001b[0m\u001b[1;33m(\u001b[0m\u001b[1;33m)\u001b[0m\u001b[1;33m:\u001b[0m\u001b[1;33m\u001b[0m\u001b[1;33m\u001b[0m\u001b[0m\n",
      "\u001b[1;31mException\u001b[0m: "
     ]
    }
   ],
   "source": [
    "def inner():\n",
    "    print('inner...')\n",
    "    raise Exception\n",
    "    \n",
    "def outer():\n",
    "    print('outer...before call inner.')\n",
    "    inner()\n",
    "    print('outer...after call inner.')\n",
    "\n",
    "outer()"
   ]
  },
  {
   "cell_type": "code",
   "execution_count": null,
   "metadata": {},
   "outputs": [],
   "source": []
  }
 ],
 "metadata": {
  "kernelspec": {
   "display_name": "Python 3",
   "language": "python",
   "name": "python3"
  },
  "language_info": {
   "codemirror_mode": {
    "name": "ipython",
    "version": 3
   },
   "file_extension": ".py",
   "mimetype": "text/x-python",
   "name": "python",
   "nbconvert_exporter": "python",
   "pygments_lexer": "ipython3",
   "version": "3.7.3"
  }
 },
 "nbformat": 4,
 "nbformat_minor": 2
}
